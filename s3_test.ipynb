{
 "cells": [
  {
   "cell_type": "code",
   "execution_count": 1,
   "id": "8ef7cf9c-0e80-4f5d-9d24-aa2fe5be7172",
   "metadata": {},
   "outputs": [],
   "source": [
    "import os\n",
    "import pickle\n",
    "import numpy as np\n",
    "import pandas as pd\n",
    "from passwords import *\n",
    "import boto3"
   ]
  },
  {
   "cell_type": "markdown",
   "id": "65236ee7-de2b-4baf-9071-fe865cb76b34",
   "metadata": {},
   "source": [
    "### Constants"
   ]
  },
  {
   "cell_type": "code",
   "execution_count": 2,
   "id": "cf76fb49-9d9d-4dd3-bdec-cb6219351fcb",
   "metadata": {},
   "outputs": [
    {
     "name": "stdout",
     "output_type": "stream",
     "text": [
      "Project is: 20240418-loan-portfolio-app\n",
      "step is: input\n"
     ]
    }
   ],
   "source": [
    "str_project = os.getcwd().split('\\\\')[-1].replace('_', '-')\n",
    "str_step = 'input'\n",
    "\n",
    "print(f'Project is: {str_project}')\n",
    "print(f'step is: {str_step}')"
   ]
  },
  {
   "cell_type": "markdown",
   "id": "8d42f445-beef-45f1-a918-a3964b98b413",
   "metadata": {},
   "source": [
    "### Functions"
   ]
  },
  {
   "cell_type": "code",
   "execution_count": 3,
   "id": "90c6e49e-67f9-4abc-9ce3-bd257b12ed67",
   "metadata": {},
   "outputs": [],
   "source": [
    "# upload to s3\n",
    "def upload_to_s3(aws_access_key_id, aws_secret_access_key, str_local_path, str_bucket_key, str_bucket_name, aws_session_token=None):\n",
    "    # init client\n",
    "    cls_client = boto3.client(\n",
    "        's3',\n",
    "        aws_access_key_id=aws_access_key_id,\n",
    "        aws_secret_access_key=aws_secret_access_key,\n",
    "        aws_session_token=aws_session_token,\n",
    "    )\n",
    "    # upload\n",
    "    cls_client.upload_file(\n",
    "        str_local_path, \n",
    "        str_bucket_name, \n",
    "        str_bucket_key,\n",
    "    )"
   ]
  },
  {
   "cell_type": "markdown",
   "id": "df4fe30a-56c7-4565-a42f-bebb143abb91",
   "metadata": {},
   "source": [
    "### Read in input"
   ]
  },
  {
   "cell_type": "code",
   "execution_count": 4,
   "id": "ba079b21-3326-48f8-82ce-b039a87d5c2a",
   "metadata": {},
   "outputs": [
    {
     "data": {
      "text/html": [
       "<div>\n",
       "<style scoped>\n",
       "    .dataframe tbody tr th:only-of-type {\n",
       "        vertical-align: middle;\n",
       "    }\n",
       "\n",
       "    .dataframe tbody tr th {\n",
       "        vertical-align: top;\n",
       "    }\n",
       "\n",
       "    .dataframe thead th {\n",
       "        text-align: right;\n",
       "    }\n",
       "</style>\n",
       "<table border=\"1\" class=\"dataframe\">\n",
       "  <thead>\n",
       "    <tr style=\"text-align: right;\">\n",
       "      <th></th>\n",
       "      <th>person_age</th>\n",
       "      <th>person_income</th>\n",
       "      <th>person_home_ownership</th>\n",
       "      <th>person_emp_length</th>\n",
       "      <th>loan_intent</th>\n",
       "      <th>loan_grade</th>\n",
       "      <th>loan_amnt</th>\n",
       "      <th>loan_int_rate</th>\n",
       "      <th>loan_status</th>\n",
       "      <th>loan_percent_income</th>\n",
       "      <th>cb_person_default_on_file</th>\n",
       "      <th>cb_person_cred_hist_length</th>\n",
       "    </tr>\n",
       "  </thead>\n",
       "  <tbody>\n",
       "    <tr>\n",
       "      <th>0</th>\n",
       "      <td>22</td>\n",
       "      <td>59000</td>\n",
       "      <td>RENT</td>\n",
       "      <td>123.0</td>\n",
       "      <td>PERSONAL</td>\n",
       "      <td>D</td>\n",
       "      <td>35000</td>\n",
       "      <td>16.02</td>\n",
       "      <td>1</td>\n",
       "      <td>0.59</td>\n",
       "      <td>Y</td>\n",
       "      <td>3</td>\n",
       "    </tr>\n",
       "    <tr>\n",
       "      <th>1</th>\n",
       "      <td>21</td>\n",
       "      <td>9600</td>\n",
       "      <td>OWN</td>\n",
       "      <td>5.0</td>\n",
       "      <td>EDUCATION</td>\n",
       "      <td>B</td>\n",
       "      <td>1000</td>\n",
       "      <td>11.14</td>\n",
       "      <td>0</td>\n",
       "      <td>0.10</td>\n",
       "      <td>N</td>\n",
       "      <td>2</td>\n",
       "    </tr>\n",
       "    <tr>\n",
       "      <th>2</th>\n",
       "      <td>25</td>\n",
       "      <td>9600</td>\n",
       "      <td>MORTGAGE</td>\n",
       "      <td>1.0</td>\n",
       "      <td>MEDICAL</td>\n",
       "      <td>C</td>\n",
       "      <td>5500</td>\n",
       "      <td>12.87</td>\n",
       "      <td>1</td>\n",
       "      <td>0.57</td>\n",
       "      <td>N</td>\n",
       "      <td>3</td>\n",
       "    </tr>\n",
       "    <tr>\n",
       "      <th>3</th>\n",
       "      <td>23</td>\n",
       "      <td>65500</td>\n",
       "      <td>RENT</td>\n",
       "      <td>4.0</td>\n",
       "      <td>MEDICAL</td>\n",
       "      <td>C</td>\n",
       "      <td>35000</td>\n",
       "      <td>15.23</td>\n",
       "      <td>1</td>\n",
       "      <td>0.53</td>\n",
       "      <td>N</td>\n",
       "      <td>2</td>\n",
       "    </tr>\n",
       "    <tr>\n",
       "      <th>4</th>\n",
       "      <td>24</td>\n",
       "      <td>54400</td>\n",
       "      <td>RENT</td>\n",
       "      <td>8.0</td>\n",
       "      <td>MEDICAL</td>\n",
       "      <td>C</td>\n",
       "      <td>35000</td>\n",
       "      <td>14.27</td>\n",
       "      <td>1</td>\n",
       "      <td>0.55</td>\n",
       "      <td>Y</td>\n",
       "      <td>4</td>\n",
       "    </tr>\n",
       "  </tbody>\n",
       "</table>\n",
       "</div>"
      ],
      "text/plain": [
       "   person_age  person_income person_home_ownership  person_emp_length  \\\n",
       "0          22          59000                  RENT              123.0   \n",
       "1          21           9600                   OWN                5.0   \n",
       "2          25           9600              MORTGAGE                1.0   \n",
       "3          23          65500                  RENT                4.0   \n",
       "4          24          54400                  RENT                8.0   \n",
       "\n",
       "  loan_intent loan_grade  loan_amnt  loan_int_rate  loan_status  \\\n",
       "0    PERSONAL          D      35000          16.02            1   \n",
       "1   EDUCATION          B       1000          11.14            0   \n",
       "2     MEDICAL          C       5500          12.87            1   \n",
       "3     MEDICAL          C      35000          15.23            1   \n",
       "4     MEDICAL          C      35000          14.27            1   \n",
       "\n",
       "   loan_percent_income cb_person_default_on_file  cb_person_cred_hist_length  \n",
       "0                 0.59                         Y                           3  \n",
       "1                 0.10                         N                           2  \n",
       "2                 0.57                         N                           3  \n",
       "3                 0.53                         N                           2  \n",
       "4                 0.55                         Y                           4  "
      ]
     },
     "execution_count": 4,
     "metadata": {},
     "output_type": "execute_result"
    }
   ],
   "source": [
    "df = pd.read_csv('./01_analysis/sql/df_credit_risk.csv')\n",
    "df.head()"
   ]
  },
  {
   "cell_type": "markdown",
   "id": "2f5ad129-fa2f-470e-9ec6-424b9a6cdd7f",
   "metadata": {},
   "source": [
    "### Write to s3"
   ]
  },
  {
   "cell_type": "code",
   "execution_count": 5,
   "id": "7223c5d5-ac22-4efb-a845-2fde45fadac0",
   "metadata": {},
   "outputs": [],
   "source": [
    "# write to local csv\n",
    "str_filename = 'df_credit_risk.gzip'\n",
    "str_local_path = f'{str_filename}'\n",
    "df.to_parquet(\n",
    "    str_local_path,\n",
    "    index=False,\n",
    "    compression='gzip'\n",
    ")\n",
    "\n",
    "# upload to s3\n",
    "str_bucket_key = f'{str_step}/{str_filename}'\n",
    "upload_to_s3(\n",
    "    aws_access_key_id=AWS_ACCESS_KEY_ID, \n",
    "    aws_secret_access_key=AWS_SECRET_ACCESS_KEY, \n",
    "    str_local_path=str_local_path, \n",
    "    str_bucket_key=str_bucket_key, \n",
    "    str_bucket_name=str_project, \n",
    ")"
   ]
  },
  {
   "cell_type": "markdown",
   "id": "868c1a7f-c26a-4e93-ab3e-09c49055442d",
   "metadata": {},
   "source": [
    "### Remove local path"
   ]
  },
  {
   "cell_type": "code",
   "execution_count": 6,
   "id": "b6fe8a09-b661-4d95-aa85-f474b2d408c2",
   "metadata": {},
   "outputs": [],
   "source": [
    "os.remove(str_filename)"
   ]
  }
 ],
 "metadata": {
  "kernelspec": {
   "display_name": "Python 3 (ipykernel)",
   "language": "python",
   "name": "python3"
  },
  "language_info": {
   "codemirror_mode": {
    "name": "ipython",
    "version": 3
   },
   "file_extension": ".py",
   "mimetype": "text/x-python",
   "name": "python",
   "nbconvert_exporter": "python",
   "pygments_lexer": "ipython3",
   "version": "3.12.2"
  }
 },
 "nbformat": 4,
 "nbformat_minor": 5
}
